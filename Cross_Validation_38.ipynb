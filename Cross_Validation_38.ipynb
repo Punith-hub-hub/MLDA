{
  "nbformat": 4,
  "nbformat_minor": 0,
  "metadata": {
    "colab": {
      "provenance": [],
      "authorship_tag": "ABX9TyM/Bh1awR+JsqqRVQoOcL3W",
      "include_colab_link": true
    },
    "kernelspec": {
      "name": "python3",
      "display_name": "Python 3"
    },
    "language_info": {
      "name": "python"
    }
  },
  "cells": [
    {
      "cell_type": "markdown",
      "metadata": {
        "id": "view-in-github",
        "colab_type": "text"
      },
      "source": [
        "<a href=\"https://colab.research.google.com/github/Punith-hub-hub/MLDA/blob/main/Cross_Validation_38.ipynb\" target=\"_parent\"><img src=\"https://colab.research.google.com/assets/colab-badge.svg\" alt=\"Open In Colab\"/></a>"
      ]
    },
    {
      "cell_type": "code",
      "execution_count": 1,
      "metadata": {
        "colab": {
          "base_uri": "https://localhost:8080/"
        },
        "id": "dBvkugvvZeRP",
        "outputId": "4b204fab-8de9-4db7-ffeb-5062c2591795"
      },
      "outputs": [
        {
          "output_type": "stream",
          "name": "stdout",
          "text": [
            "Decision Tree CV Scores: [0.92982456 0.9122807  0.87719298 0.94736842 0.92982456 0.98245614\n",
            " 0.9122807  0.98245614 0.92982456 0.96428571]\n",
            "Logistic Regression CV Scores: [0.87719298 0.94736842 0.94736842 0.98245614 0.96491228 0.96491228\n",
            " 0.98245614 0.94736842 0.94736842 0.96428571]\n",
            "Average CV Score (Decision Tree): 0.9367794486215537\n",
            "Average CV Score (Logistic Regression): 0.9525689223057643\n",
            "Number of Folds: 10\n"
          ]
        }
      ],
      "source": [
        "from sklearn import datasets\n",
        "from sklearn.tree import DecisionTreeClassifier\n",
        "from sklearn.linear_model import LogisticRegression\n",
        "from sklearn.model_selection import KFold, cross_val_score\n",
        "\n",
        "X, y = datasets.load_breast_cancer(return_X_y=True)\n",
        "\n",
        "clf1 = DecisionTreeClassifier(random_state=42)\n",
        "clf2 = LogisticRegression(max_iter=10000)\n",
        "\n",
        "k_folds = KFold(n_splits=10)\n",
        "\n",
        "scores1 = cross_val_score(clf1, X, y, cv=k_folds)\n",
        "scores2 = cross_val_score(clf2, X, y, cv=k_folds)\n",
        "\n",
        "print(\"Decision Tree CV Scores:\", scores1)\n",
        "print(\"Logistic Regression CV Scores:\", scores2)\n",
        "print(\"Average CV Score (Decision Tree):\", scores1.mean())\n",
        "print(\"Average CV Score (Logistic Regression):\", scores2.mean())\n",
        "print(\"Number of Folds:\", len(scores1))\n"
      ]
    }
  ]
}